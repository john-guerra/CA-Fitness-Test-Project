{
 "cells": [
  {
   "cell_type": "markdown",
   "metadata": {},
   "source": [
    "# County Level Summary  \n",
    "\n",
    "The purpose of this notebook is to create county level summaries of the fitnessgram and academic test scores data."
   ]
  },
  {
   "cell_type": "markdown",
   "metadata": {},
   "source": [
    "## Load Data"
   ]
  },
  {
   "cell_type": "code",
   "execution_count": 87,
   "metadata": {
    "collapsed": true
   },
   "outputs": [],
   "source": [
    "#Import Packages\n",
    "import os\n",
    "import pandas as pd\n",
    "from IPython.display import display\n",
    "\n",
    "\n",
    "#*******************************************************************************\n",
    "#*******************************************************************************\n",
    "#Set these file paths for your own local machine before running\n",
    "#*******************************************************************************\n",
    "#*******************************************************************************\n",
    "\n",
    "#Set file path containing fitnessgram data\n",
    "datapath = \"/Users/nwchen24/Desktop/UC_Berkeley/w209_Data_Viz/final_proj_repo2/Combined_Data/\"\n",
    "\n",
    "fitnessgram_datapath = \"/Users/nwchen24/Desktop/UC_Berkeley/w209_Data_Viz/final_project_data/Fitnessgram_Results\"\n",
    "\n",
    "combined_outfile = 'Comb_County_lvl_Fitnessgram_Academic_2014_2016.csv'"
   ]
  },
  {
   "cell_type": "code",
   "execution_count": 12,
   "metadata": {
    "collapsed": false
   },
   "outputs": [],
   "source": [
    "combined_data = pd.read_csv(datapath + 'Comb_Fitnessgram_Academic_2014_2016.csv')\n",
    "combined_data = combined_data.drop(['Unnamed: 0', 'NoHFZ9_aerobic', 'NoHFZ9_bodycomp'], axis = 1)"
   ]
  },
  {
   "cell_type": "markdown",
   "metadata": {},
   "source": [
    "### Get Fitness Data on County Level"
   ]
  },
  {
   "cell_type": "code",
   "execution_count": 48,
   "metadata": {
    "collapsed": false,
    "scrolled": true
   },
   "outputs": [
    {
     "data": {
      "text/html": [
       "<div>\n",
       "<table border=\"1\" class=\"dataframe\">\n",
       "  <thead>\n",
       "    <tr style=\"text-align: right;\">\n",
       "      <th></th>\n",
       "      <th>County_Code</th>\n",
       "      <th>fitness_pct_HFZ_All</th>\n",
       "      <th>fitness_pct_HFZ_Economic_disadv</th>\n",
       "      <th>fitness_pct_HFZ_NOT_economic_disadv</th>\n",
       "      <th>fitness_pct_NI_All</th>\n",
       "      <th>fitness_pct_NI_Economic_disadv</th>\n",
       "      <th>fitness_pct_NI_NOT_economic_disadv</th>\n",
       "      <th>fitness_pct_NI_HR_All</th>\n",
       "      <th>fitness_pct_NI_HR_Economic_disadv</th>\n",
       "      <th>fitness_pct_NI_HR_NOT_economic_disadv</th>\n",
       "    </tr>\n",
       "  </thead>\n",
       "  <tbody>\n",
       "    <tr>\n",
       "      <th>0</th>\n",
       "      <td>1.0</td>\n",
       "      <td>0.636123</td>\n",
       "      <td>0.523148</td>\n",
       "      <td>0.728352</td>\n",
       "      <td>0.233018</td>\n",
       "      <td>0.270354</td>\n",
       "      <td>0.150460</td>\n",
       "      <td>0.128140</td>\n",
       "      <td>0.175201</td>\n",
       "      <td>0.085475</td>\n",
       "    </tr>\n",
       "    <tr>\n",
       "      <th>1</th>\n",
       "      <td>2.0</td>\n",
       "      <td>NaN</td>\n",
       "      <td>NaN</td>\n",
       "      <td>NaN</td>\n",
       "      <td>NaN</td>\n",
       "      <td>NaN</td>\n",
       "      <td>NaN</td>\n",
       "      <td>NaN</td>\n",
       "      <td>NaN</td>\n",
       "      <td>NaN</td>\n",
       "    </tr>\n",
       "    <tr>\n",
       "      <th>2</th>\n",
       "      <td>3.0</td>\n",
       "      <td>0.668490</td>\n",
       "      <td>0.587222</td>\n",
       "      <td>0.702264</td>\n",
       "      <td>0.169752</td>\n",
       "      <td>0.179701</td>\n",
       "      <td>0.150849</td>\n",
       "      <td>0.129149</td>\n",
       "      <td>0.152085</td>\n",
       "      <td>0.114329</td>\n",
       "    </tr>\n",
       "    <tr>\n",
       "      <th>3</th>\n",
       "      <td>4.0</td>\n",
       "      <td>0.647058</td>\n",
       "      <td>0.584524</td>\n",
       "      <td>0.716731</td>\n",
       "      <td>0.175427</td>\n",
       "      <td>0.194871</td>\n",
       "      <td>0.149896</td>\n",
       "      <td>0.158063</td>\n",
       "      <td>0.195896</td>\n",
       "      <td>0.105475</td>\n",
       "    </tr>\n",
       "    <tr>\n",
       "      <th>4</th>\n",
       "      <td>5.0</td>\n",
       "      <td>0.635101</td>\n",
       "      <td>0.585512</td>\n",
       "      <td>0.691720</td>\n",
       "      <td>0.202937</td>\n",
       "      <td>0.216254</td>\n",
       "      <td>0.173127</td>\n",
       "      <td>0.141626</td>\n",
       "      <td>0.146095</td>\n",
       "      <td>0.122559</td>\n",
       "    </tr>\n",
       "  </tbody>\n",
       "</table>\n",
       "</div>"
      ],
      "text/plain": [
       "   County_Code  fitness_pct_HFZ_All  fitness_pct_HFZ_Economic_disadv  \\\n",
       "0          1.0             0.636123                         0.523148   \n",
       "1          2.0                  NaN                              NaN   \n",
       "2          3.0             0.668490                         0.587222   \n",
       "3          4.0             0.647058                         0.584524   \n",
       "4          5.0             0.635101                         0.585512   \n",
       "\n",
       "   fitness_pct_HFZ_NOT_economic_disadv  fitness_pct_NI_All  \\\n",
       "0                             0.728352            0.233018   \n",
       "1                                  NaN                 NaN   \n",
       "2                             0.702264            0.169752   \n",
       "3                             0.716731            0.175427   \n",
       "4                             0.691720            0.202937   \n",
       "\n",
       "   fitness_pct_NI_Economic_disadv  fitness_pct_NI_NOT_economic_disadv  \\\n",
       "0                        0.270354                            0.150460   \n",
       "1                             NaN                                 NaN   \n",
       "2                        0.179701                            0.150849   \n",
       "3                        0.194871                            0.149896   \n",
       "4                        0.216254                            0.173127   \n",
       "\n",
       "   fitness_pct_NI_HR_All  fitness_pct_NI_HR_Economic_disadv  \\\n",
       "0               0.128140                           0.175201   \n",
       "1                    NaN                                NaN   \n",
       "2               0.129149                           0.152085   \n",
       "3               0.158063                           0.195896   \n",
       "4               0.141626                           0.146095   \n",
       "\n",
       "   fitness_pct_NI_HR_NOT_economic_disadv  \n",
       "0                               0.085475  \n",
       "1                                    NaN  \n",
       "2                               0.114329  \n",
       "3                               0.105475  \n",
       "4                               0.122559  "
      ]
     },
     "execution_count": 48,
     "metadata": {},
     "output_type": "execute_result"
    }
   ],
   "source": [
    "#Get county level results for fitnessgram\n",
    "#First, get average of percentage of students in each zone for aerobic and bodycomp\n",
    "combined_data_fitness = combined_data.drop(['Mean_Academic_Test_Score', 'Students_Tested_Academic', 'Total_Tested_At_Subgroup_Level_Academic'], axis = 1)\n",
    "\n",
    "combined_data_fitness['fitness_comb_HFZ_pct'] = (combined_data_fitness['Perc9HFZ_aerobic'] + combined_data_fitness['Perc9HFZ_bodycomp']) / 2\n",
    "combined_data_fitness = combined_data_fitness.drop(['Perc9HFZ_aerobic', 'Perc9HFZ_bodycomp'], axis = 1)\n",
    "\n",
    "combined_data_fitness['fitness_comb_NI_pct'] = (combined_data_fitness['Perc9NI_aerobic'] + combined_data_fitness['Perc9NI_bodycomp']) / 2\n",
    "combined_data_fitness = combined_data_fitness.drop(['Perc9NI_aerobic', 'Perc9NI_bodycomp'], axis = 1)\n",
    "\n",
    "combined_data_fitness['fitness_comb_NI_HR_pct'] = (combined_data_fitness['Perc9NI_HR_aerobic'] + combined_data_fitness['Perc9NI_HR_bodycomp']) / 2\n",
    "combined_data_fitness = combined_data_fitness.drop(['Perc9NI_HR_aerobic', 'Perc9NI_HR_bodycomp'], axis = 1)\n",
    "\n",
    "combined_data_fitness['fitness_number_students'] = combined_data_fitness['NoStud9_aerobic']\n",
    "combined_data_fitness = combined_data_fitness.drop(['NoStud9_aerobic', 'NoStud9_bodycomp'], axis = 1)\n",
    "\n",
    "\n",
    "combined_data_fitness.head()\n",
    "\n",
    "#Second, calculate number of students at each school in each zone\n",
    "combined_data_fitness['fitness_num_HFZ'] = combined_data_fitness['fitness_comb_HFZ_pct'] / 100. * combined_data_fitness['fitness_number_students']\n",
    "combined_data_fitness = combined_data_fitness.drop(['fitness_comb_HFZ_pct'], axis = 1)\n",
    "\n",
    "combined_data_fitness['fitness_num_NI'] = combined_data_fitness['fitness_comb_NI_pct'] / 100. * combined_data_fitness['fitness_number_students']\n",
    "combined_data_fitness = combined_data_fitness.drop(['fitness_comb_NI_pct'], axis = 1)\n",
    "\n",
    "combined_data_fitness['fitness_num_NI_HR'] = combined_data_fitness['fitness_comb_NI_HR_pct'] / 100. * combined_data_fitness['fitness_number_students']\n",
    "combined_data_fitness = combined_data_fitness.drop(['fitness_comb_NI_HR_pct'], axis = 1)\n",
    "\n",
    "combined_data_fitness.head()\n",
    "\n",
    "#Third, sum by county and subgroup\n",
    "combined_data_fitness = combined_data_fitness.drop(['District_Code', 'School_Code'], axis = 1)\n",
    "\n",
    "combined_data_fitness_county_grp = combined_data_fitness.groupby(['County_Code', 'Subgroup'], as_index=False).sum()\n",
    "\n",
    "#Fourth, calculate percentage of students in each count in each zone\n",
    "combined_data_fitness_county_grp['fitness_pct_HFZ'] = combined_data_fitness_county_grp['fitness_num_HFZ'] / combined_data_fitness_county_grp['fitness_number_students']\n",
    "combined_data_fitness_county_grp['fitness_pct_NI'] = combined_data_fitness_county_grp['fitness_num_NI'] / combined_data_fitness_county_grp['fitness_number_students']\n",
    "combined_data_fitness_county_grp['fitness_pct_NI_HR'] = combined_data_fitness_county_grp['fitness_num_NI_HR'] / combined_data_fitness_county_grp['fitness_number_students']\n",
    "\n",
    "combined_data_fitness_county_grp = combined_data_fitness_county_grp.drop(['fitness_num_HFZ', 'fitness_num_NI', 'fitness_num_NI_HR', 'fitness_number_students'], axis = 1)\n",
    "combined_data_fitness_county_grp.head(25)\n",
    "\n",
    "#Fifth, reshape long to wide\n",
    "combined_data_fitness_county = pd.pivot_table(combined_data_fitness_county_grp, values = ['fitness_pct_HFZ', 'fitness_pct_NI', 'fitness_pct_NI_HR'], index = ['County_Code'], columns = ['Subgroup'])\n",
    "\n",
    "combined_data_fitness_county.columns = ['_'.join(col).strip() for col in combined_data_fitness_county.columns.values]\n",
    "\n",
    "combined_data_fitness_county = combined_data_fitness_county.reset_index()\n"
   ]
  },
  {
   "cell_type": "markdown",
   "metadata": {},
   "source": [
    "### Get Academic Data on County Level"
   ]
  },
  {
   "cell_type": "code",
   "execution_count": 63,
   "metadata": {
    "collapsed": false,
    "scrolled": true
   },
   "outputs": [
    {
     "name": "stderr",
     "output_type": "stream",
     "text": [
      "/Users/nwchen24/anaconda/envs/Machine_learning_python2/lib/python2.7/site-packages/ipykernel/__main__.py:5: SettingWithCopyWarning: \n",
      "A value is trying to be set on a copy of a slice from a DataFrame.\n",
      "Try using .loc[row_indexer,col_indexer] = value instead\n",
      "\n",
      "See the caveats in the documentation: http://pandas.pydata.org/pandas-docs/stable/indexing.html#indexing-view-versus-copy\n"
     ]
    },
    {
     "data": {
      "text/html": [
       "<div>\n",
       "<table border=\"1\" class=\"dataframe\">\n",
       "  <thead>\n",
       "    <tr style=\"text-align: right;\">\n",
       "      <th></th>\n",
       "      <th>County_Code</th>\n",
       "      <th>academic_wght_avg_score_All</th>\n",
       "      <th>academic_wght_avg_score_Economic_disadv</th>\n",
       "      <th>academic_wght_avg_score_NOT_economic_disadv</th>\n",
       "    </tr>\n",
       "  </thead>\n",
       "  <tbody>\n",
       "    <tr>\n",
       "      <th>0</th>\n",
       "      <td>1.0</td>\n",
       "      <td>353.261754</td>\n",
       "      <td>326.202292</td>\n",
       "      <td>381.387079</td>\n",
       "    </tr>\n",
       "    <tr>\n",
       "      <th>1</th>\n",
       "      <td>2.0</td>\n",
       "      <td>NaN</td>\n",
       "      <td>NaN</td>\n",
       "      <td>NaN</td>\n",
       "    </tr>\n",
       "    <tr>\n",
       "      <th>2</th>\n",
       "      <td>3.0</td>\n",
       "      <td>279.356928</td>\n",
       "      <td>202.842149</td>\n",
       "      <td>335.766349</td>\n",
       "    </tr>\n",
       "    <tr>\n",
       "      <th>3</th>\n",
       "      <td>4.0</td>\n",
       "      <td>343.621098</td>\n",
       "      <td>329.966129</td>\n",
       "      <td>355.704252</td>\n",
       "    </tr>\n",
       "    <tr>\n",
       "      <th>4</th>\n",
       "      <td>5.0</td>\n",
       "      <td>353.115935</td>\n",
       "      <td>335.224607</td>\n",
       "      <td>362.544265</td>\n",
       "    </tr>\n",
       "  </tbody>\n",
       "</table>\n",
       "</div>"
      ],
      "text/plain": [
       "   County_Code  academic_wght_avg_score_All  \\\n",
       "0          1.0                   353.261754   \n",
       "1          2.0                          NaN   \n",
       "2          3.0                   279.356928   \n",
       "3          4.0                   343.621098   \n",
       "4          5.0                   353.115935   \n",
       "\n",
       "   academic_wght_avg_score_Economic_disadv  \\\n",
       "0                               326.202292   \n",
       "1                                      NaN   \n",
       "2                               202.842149   \n",
       "3                               329.966129   \n",
       "4                               335.224607   \n",
       "\n",
       "   academic_wght_avg_score_NOT_economic_disadv  \n",
       "0                                   381.387079  \n",
       "1                                          NaN  \n",
       "2                                   335.766349  \n",
       "3                                   355.704252  \n",
       "4                                   362.544265  "
      ]
     },
     "execution_count": 63,
     "metadata": {},
     "output_type": "execute_result"
    }
   ],
   "source": [
    "#Get county level results for fitnessgram\n",
    "#First, get number of student points in each school\n",
    "combined_data_academic = combined_data[['County_Code', 'Subgroup', 'Mean_Academic_Test_Score', 'Students_Tested_Academic', 'Total_Tested_At_Subgroup_Level_Academic']]\n",
    "\n",
    "combined_data_academic['student_points'] = combined_data_academic['Mean_Academic_Test_Score'] * combined_data_academic['Total_Tested_At_Subgroup_Level_Academic']\n",
    "combined_data_academic = combined_data_academic.drop(['Mean_Academic_Test_Score', 'Students_Tested_Academic'], axis = 1)\n",
    "\n",
    "#sum by county and subgroup\n",
    "combined_data_academic_county_group = combined_data_academic.groupby(['County_Code', 'Subgroup'], as_index=False).sum()\n",
    "\n",
    "#get weighted average score at county level\n",
    "combined_data_academic_county_group['academic_wght_avg_score'] = combined_data_academic_county_group['student_points'] / combined_data_academic_county_group['Total_Tested_At_Subgroup_Level_Academic']\n",
    "combined_data_academic_county_group = combined_data_academic_county_group.drop(['Total_Tested_At_Subgroup_Level_Academic', 'student_points'], axis = 1)\n",
    "\n",
    "#reshape long to wide\n",
    "combined_data_academic_county = pd.pivot_table(combined_data_academic_county_group, values = ['academic_wght_avg_score'], index = ['County_Code'], columns = ['Subgroup'])\n",
    "\n",
    "combined_data_academic_county.columns = ['_'.join(col).strip() for col in combined_data_academic_county.columns.values]\n",
    "\n",
    "combined_data_academic_county = combined_data_academic_county.reset_index()\n",
    "\n",
    "\n",
    "combined_data_academic_county.head()"
   ]
  },
  {
   "cell_type": "markdown",
   "metadata": {},
   "source": [
    "### Merge Academic and Fitness"
   ]
  },
  {
   "cell_type": "code",
   "execution_count": 79,
   "metadata": {
    "collapsed": false
   },
   "outputs": [
    {
     "data": {
      "text/plain": [
       "(58, 13)"
      ]
     },
     "execution_count": 79,
     "metadata": {},
     "output_type": "execute_result"
    }
   ],
   "source": [
    "County_level_combined_data = pd.merge(left = combined_data_academic_county, right = combined_data_fitness_county, on = 'County_Code')\n",
    "\n",
    "County_level_combined_data.head()\n",
    "\n",
    "County_level_combined_data.shape"
   ]
  },
  {
   "cell_type": "markdown",
   "metadata": {},
   "source": [
    "### Merge in County Names"
   ]
  },
  {
   "cell_type": "code",
   "execution_count": 80,
   "metadata": {
    "collapsed": false
   },
   "outputs": [
    {
     "name": "stderr",
     "output_type": "stream",
     "text": [
      "Skipping line 154: expected 8 fields, saw 9\n",
      "Skipping line 285: expected 8 fields, saw 9\n",
      "Skipping line 287: expected 8 fields, saw 9\n",
      "Skipping line 301: expected 8 fields, saw 9\n",
      "Skipping line 302: expected 8 fields, saw 10\n",
      "Skipping line 1961: expected 8 fields, saw 9\n",
      "Skipping line 1964: expected 8 fields, saw 9\n",
      "Skipping line 1966: expected 8 fields, saw 9\n",
      "Skipping line 1967: expected 8 fields, saw 9\n",
      "Skipping line 1968: expected 8 fields, saw 9\n",
      "Skipping line 2468: expected 8 fields, saw 9\n",
      "Skipping line 2469: expected 8 fields, saw 10\n",
      "Skipping line 2486: expected 8 fields, saw 9\n",
      "Skipping line 2570: expected 8 fields, saw 9\n",
      "Skipping line 2649: expected 8 fields, saw 10\n",
      "Skipping line 2659: expected 8 fields, saw 10\n",
      "Skipping line 2682: expected 8 fields, saw 9\n",
      "Skipping line 2683: expected 8 fields, saw 10\n",
      "Skipping line 2686: expected 8 fields, saw 10\n",
      "Skipping line 2687: expected 8 fields, saw 9\n",
      "Skipping line 2694: expected 8 fields, saw 11\n",
      "Skipping line 2753: expected 8 fields, saw 11\n",
      "Skipping line 3236: expected 8 fields, saw 9\n",
      "Skipping line 3285: expected 8 fields, saw 10\n",
      "Skipping line 3483: expected 8 fields, saw 10\n",
      "Skipping line 3484: expected 8 fields, saw 12\n",
      "Skipping line 3673: expected 8 fields, saw 10\n",
      "Skipping line 3674: expected 8 fields, saw 12\n",
      "Skipping line 4179: expected 8 fields, saw 9\n",
      "Skipping line 4209: expected 8 fields, saw 9\n",
      "Skipping line 4732: expected 8 fields, saw 9\n",
      "Skipping line 4751: expected 8 fields, saw 9\n",
      "Skipping line 6070: expected 8 fields, saw 10\n",
      "Skipping line 6217: expected 8 fields, saw 9\n",
      "Skipping line 6404: expected 8 fields, saw 9\n",
      "Skipping line 6620: expected 8 fields, saw 9\n",
      "Skipping line 6961: expected 8 fields, saw 10\n",
      "Skipping line 7110: expected 8 fields, saw 9\n",
      "Skipping line 7542: expected 8 fields, saw 9\n",
      "Skipping line 7588: expected 8 fields, saw 10\n",
      "Skipping line 7857: expected 8 fields, saw 11\n",
      "Skipping line 7858: expected 8 fields, saw 14\n",
      "Skipping line 7870: expected 8 fields, saw 10\n",
      "Skipping line 8009: expected 8 fields, saw 9\n",
      "Skipping line 8101: expected 8 fields, saw 9\n",
      "Skipping line 8223: expected 8 fields, saw 10\n",
      "Skipping line 8233: expected 8 fields, saw 9\n",
      "Skipping line 8234: expected 8 fields, saw 10\n",
      "Skipping line 8917: expected 8 fields, saw 9\n",
      "Skipping line 8918: expected 8 fields, saw 10\n",
      "Skipping line 8961: expected 8 fields, saw 9\n",
      "Skipping line 9351: expected 8 fields, saw 10\n",
      "Skipping line 9352: expected 8 fields, saw 10\n",
      "Skipping line 9353: expected 8 fields, saw 10\n",
      "Skipping line 9770: expected 8 fields, saw 9\n",
      "\n"
     ]
    },
    {
     "data": {
      "text/plain": [
       "(62, 2)"
      ]
     },
     "execution_count": 80,
     "metadata": {},
     "output_type": "execute_result"
    }
   ],
   "source": [
    "Entities_files_list = []\n",
    "\n",
    "#Walk the data directory and get all filepaths\n",
    "for root, dirs, files in os.walk(fitnessgram_datapath):\n",
    "    for filename in files:\n",
    "        #Get full list of filepaths to the physical fitness test files\n",
    "        if filename.endswith('.txt'):    \n",
    "            #Get full list of filepaths to the entities files        \n",
    "            if filename[:8] == \"Entities\":\n",
    "                Entities_files_list.append(fitnessgram_datapath + \"/PFT_\" + filename[8:13] + \"/\" + filename)\n",
    "            if filename[8:16] == \"Entities\":\n",
    "                Entities_files_list.append(fitnessgram_datapath + \"/PFT_\" + str(int(filename[:4])+1) + \"/\" + filename)\n",
    "\n",
    "#read entities files\n",
    "physfit_entities_df = pd.DataFrame()\n",
    "\n",
    "entities_2014 = pd.read_table(Entities_files_list[0], delimiter = \"\\t\")\n",
    "entities_2014['Year'] = 2014\n",
    "#Note there are some bad lines in the entities file. There are not that many, so we will just skip them\n",
    "entities_2015 = pd.read_csv(Entities_files_list[1], error_bad_lines = False)\n",
    "entities_2015['Year'] = 2015\n",
    "entities_2016 = pd.read_csv(Entities_files_list[2], error_bad_lines = False)\n",
    "entities_2016['Year'] = 2016\n",
    "\n",
    "#combine all years\n",
    "physfit_entities_df = physfit_entities_df.append(entities_2014).append(entities_2015).append(entities_2016)\n",
    "\n",
    "#Standardize Columns\n",
    "physfit_entities_coldict = {}\n",
    "physfit_entities_coldict['scode'] = 'School_Code'\n",
    "physfit_entities_coldict['ccode'] = 'County_Code'\n",
    "physfit_entities_coldict['dcode'] = 'District_Code'\n",
    "physfit_entities_coldict['chrtnum'] = 'Charter_Number'\n",
    "\n",
    "physfit_entities_df = physfit_entities_df.rename(columns = physfit_entities_coldict)\n",
    "\n",
    "#Keep only county code and county name then remove duplicates\n",
    "physfit_entities_df_counties = physfit_entities_df[['County_Code', 'County']].drop_duplicates().reset_index().drop(['index'], axis = 1)\n",
    "\n",
    "physfit_entities_df_counties.shape\n",
    "\n"
   ]
  },
  {
   "cell_type": "code",
   "execution_count": 81,
   "metadata": {
    "collapsed": true
   },
   "outputs": [],
   "source": [
    "County_level_combined_data = County_level_combined_data.merge(physfit_entities_df_counties, on = ['County_Code'], how = 'inner')"
   ]
  },
  {
   "cell_type": "markdown",
   "metadata": {},
   "source": [
    "### Export"
   ]
  },
  {
   "cell_type": "code",
   "execution_count": 88,
   "metadata": {
    "collapsed": false
   },
   "outputs": [],
   "source": [
    "County_level_combined_data.to_csv(datapath + combined_outfile)"
   ]
  },
  {
   "cell_type": "code",
   "execution_count": null,
   "metadata": {
    "collapsed": true
   },
   "outputs": [],
   "source": []
  }
 ],
 "metadata": {
  "anaconda-cloud": {},
  "kernelspec": {
   "display_name": "Python [conda env:Machine_learning_python2]",
   "language": "python",
   "name": "conda-env-Machine_learning_python2-py"
  },
  "language_info": {
   "codemirror_mode": {
    "name": "ipython",
    "version": 2
   },
   "file_extension": ".py",
   "mimetype": "text/x-python",
   "name": "python",
   "nbconvert_exporter": "python",
   "pygments_lexer": "ipython2",
   "version": "2.7.13"
  }
 },
 "nbformat": 4,
 "nbformat_minor": 1
}
