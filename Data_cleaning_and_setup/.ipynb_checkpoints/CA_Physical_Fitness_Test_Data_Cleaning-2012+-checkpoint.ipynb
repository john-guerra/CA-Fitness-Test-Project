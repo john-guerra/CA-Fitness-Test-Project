{
 "cells": [
  {
   "cell_type": "markdown",
   "metadata": {},
   "source": [
    "# w209 Final Project Load Data and EDA"
   ]
  },
  {
   "cell_type": "code",
   "execution_count": 11,
   "metadata": {
    "collapsed": true
   },
   "outputs": [],
   "source": [
    "#Import Packages\n",
    "import os\n",
    "import pandas as pd\n",
    "\n",
    "#Set file path containing data\n",
    "datapath = \"/Users/nwchen24/Desktop/UC_Berkeley/w209_Data_Viz/final_project_data\""
   ]
  },
  {
   "cell_type": "code",
   "execution_count": 18,
   "metadata": {
    "collapsed": false
   },
   "outputs": [
    {
     "data": {
      "text/plain": [
       "'2003'"
      ]
     },
     "execution_count": 18,
     "metadata": {},
     "output_type": "execute_result"
    }
   ],
   "source": [
    "test = \"Entities2003\"\n",
    "\n",
    "test[8:13]"
   ]
  },
  {
   "cell_type": "code",
   "execution_count": 49,
   "metadata": {
    "collapsed": false
   },
   "outputs": [
    {
     "data": {
      "text/plain": [
       "'Entities'"
      ]
     },
     "execution_count": 49,
     "metadata": {},
     "output_type": "execute_result"
    }
   ],
   "source": [
    "test = \"2012_13_Entities\"\n",
    "test[-8:]"
   ]
  },
  {
   "cell_type": "code",
   "execution_count": 68,
   "metadata": {
    "collapsed": false
   },
   "outputs": [],
   "source": [
    "#initialize lists to hold filepaths\n",
    "Phys_files_list = []\n",
    "Entities_files_list = []\n",
    "\n",
    "#Walk the data directory and get all filepaths\n",
    "for root, dirs, files in os.walk(datapath):\n",
    "    for filename in files:\n",
    "        #Get full list of filepaths to the physical fitness test files\n",
    "        if filename.endswith('.txt'):    \n",
    "            if filename[:4] == \"Phys\":\n",
    "                 Phys_files_list.append(datapath + \"/PFT_\" + filename[7:11] + \"/\" + filename)\n",
    "            if filename[8:16] == \"Research\":\n",
    "                Phys_files_list.append(datapath + \"/PFT_\" + str(int(filename[:4])+1) + \"/\" + filename)\n",
    "\n",
    "            #Get full list of filepaths to the entities files        \n",
    "            if filename[:8] == \"Entities\":\n",
    "                Entities_files_list.append(datapath + \"/PFT_\" + filename[8:13] + \"/\" + filename)\n",
    "            if filename[8:16] == \"Entities\":\n",
    "                Entities_files_list.append(datapath + \"/PFT_\" + str(int(filename[:4])+1) + \"/\" + filename)"
   ]
  },
  {
   "cell_type": "code",
   "execution_count": 74,
   "metadata": {
    "collapsed": false
   },
   "outputs": [
    {
     "data": {
      "text/html": [
       "<div>\n",
       "<table border=\"1\" class=\"dataframe\">\n",
       "  <thead>\n",
       "    <tr style=\"text-align: right;\">\n",
       "      <th></th>\n",
       "      <th>Level_Number</th>\n",
       "      <th>Report_Number</th>\n",
       "      <th>Table_Number</th>\n",
       "      <th>Line_Number</th>\n",
       "      <th>CO</th>\n",
       "      <th>DIST</th>\n",
       "      <th>SCHL</th>\n",
       "      <th>Line_Text</th>\n",
       "      <th>NoStud5</th>\n",
       "      <th>NoHFZ5</th>\n",
       "      <th>...</th>\n",
       "      <th>NoHFZ7</th>\n",
       "      <th>Perc7a</th>\n",
       "      <th>Perc7b</th>\n",
       "      <th>Perc7c</th>\n",
       "      <th>NoStud9</th>\n",
       "      <th>NoHFZ9</th>\n",
       "      <th>Perc9a</th>\n",
       "      <th>Perc9b</th>\n",
       "      <th>Perc9c</th>\n",
       "      <th>ChrtNum</th>\n",
       "    </tr>\n",
       "  </thead>\n",
       "  <tbody>\n",
       "    <tr>\n",
       "      <th>0</th>\n",
       "      <td>1</td>\n",
       "      <td>0</td>\n",
       "      <td>1</td>\n",
       "      <td>1</td>\n",
       "      <td>1</td>\n",
       "      <td>61150</td>\n",
       "      <td>6090369</td>\n",
       "      <td>Aerobic Capacity</td>\n",
       "      <td>74</td>\n",
       "      <td>69</td>\n",
       "      <td>...</td>\n",
       "      <td>0</td>\n",
       "      <td>0.0</td>\n",
       "      <td>0.0</td>\n",
       "      <td>0.0</td>\n",
       "      <td>0</td>\n",
       "      <td>0</td>\n",
       "      <td>0.0</td>\n",
       "      <td>0.0</td>\n",
       "      <td>0.0</td>\n",
       "      <td>0000</td>\n",
       "    </tr>\n",
       "    <tr>\n",
       "      <th>1</th>\n",
       "      <td>1</td>\n",
       "      <td>0</td>\n",
       "      <td>1</td>\n",
       "      <td>2</td>\n",
       "      <td>1</td>\n",
       "      <td>61150</td>\n",
       "      <td>6090369</td>\n",
       "      <td>Body Composition</td>\n",
       "      <td>74</td>\n",
       "      <td>51</td>\n",
       "      <td>...</td>\n",
       "      <td>0</td>\n",
       "      <td>0.0</td>\n",
       "      <td>0.0</td>\n",
       "      <td>0.0</td>\n",
       "      <td>0</td>\n",
       "      <td>0</td>\n",
       "      <td>0.0</td>\n",
       "      <td>0.0</td>\n",
       "      <td>0.0</td>\n",
       "      <td>0000</td>\n",
       "    </tr>\n",
       "    <tr>\n",
       "      <th>2</th>\n",
       "      <td>1</td>\n",
       "      <td>0</td>\n",
       "      <td>1</td>\n",
       "      <td>3</td>\n",
       "      <td>1</td>\n",
       "      <td>61150</td>\n",
       "      <td>6090369</td>\n",
       "      <td>Abdominal Strength</td>\n",
       "      <td>74</td>\n",
       "      <td>74</td>\n",
       "      <td>...</td>\n",
       "      <td>0</td>\n",
       "      <td>0.0</td>\n",
       "      <td>0.0</td>\n",
       "      <td>0.0</td>\n",
       "      <td>0</td>\n",
       "      <td>0</td>\n",
       "      <td>0.0</td>\n",
       "      <td>0.0</td>\n",
       "      <td>0.0</td>\n",
       "      <td>0000</td>\n",
       "    </tr>\n",
       "    <tr>\n",
       "      <th>3</th>\n",
       "      <td>1</td>\n",
       "      <td>0</td>\n",
       "      <td>1</td>\n",
       "      <td>4</td>\n",
       "      <td>1</td>\n",
       "      <td>61150</td>\n",
       "      <td>6090369</td>\n",
       "      <td>Trunk Extension Strength</td>\n",
       "      <td>74</td>\n",
       "      <td>74</td>\n",
       "      <td>...</td>\n",
       "      <td>0</td>\n",
       "      <td>0.0</td>\n",
       "      <td>0.0</td>\n",
       "      <td>0.0</td>\n",
       "      <td>0</td>\n",
       "      <td>0</td>\n",
       "      <td>0.0</td>\n",
       "      <td>0.0</td>\n",
       "      <td>0.0</td>\n",
       "      <td>0000</td>\n",
       "    </tr>\n",
       "    <tr>\n",
       "      <th>4</th>\n",
       "      <td>1</td>\n",
       "      <td>0</td>\n",
       "      <td>1</td>\n",
       "      <td>5</td>\n",
       "      <td>1</td>\n",
       "      <td>61150</td>\n",
       "      <td>6090369</td>\n",
       "      <td>Upper Body Strength</td>\n",
       "      <td>74</td>\n",
       "      <td>48</td>\n",
       "      <td>...</td>\n",
       "      <td>0</td>\n",
       "      <td>0.0</td>\n",
       "      <td>0.0</td>\n",
       "      <td>0.0</td>\n",
       "      <td>0</td>\n",
       "      <td>0</td>\n",
       "      <td>0.0</td>\n",
       "      <td>0.0</td>\n",
       "      <td>0.0</td>\n",
       "      <td>0000</td>\n",
       "    </tr>\n",
       "  </tbody>\n",
       "</table>\n",
       "<p>5 rows × 24 columns</p>\n",
       "</div>"
      ],
      "text/plain": [
       "   Level_Number  Report_Number  Table_Number  Line_Number  CO   DIST     SCHL  \\\n",
       "0             1              0             1            1   1  61150  6090369   \n",
       "1             1              0             1            2   1  61150  6090369   \n",
       "2             1              0             1            3   1  61150  6090369   \n",
       "3             1              0             1            4   1  61150  6090369   \n",
       "4             1              0             1            5   1  61150  6090369   \n",
       "\n",
       "                             Line_Text  NoStud5 NoHFZ5   ...   NoHFZ7 Perc7a  \\\n",
       "0  Aerobic Capacity                          74     69   ...        0    0.0   \n",
       "1  Body Composition                          74     51   ...        0    0.0   \n",
       "2  Abdominal Strength                        74     74   ...        0    0.0   \n",
       "3  Trunk Extension Strength                  74     74   ...        0    0.0   \n",
       "4  Upper Body Strength                       74     48   ...        0    0.0   \n",
       "\n",
       "  Perc7b  Perc7c NoStud9 NoHFZ9 Perc9a Perc9b  Perc9c ChrtNum  \n",
       "0    0.0     0.0       0      0    0.0    0.0     0.0    0000  \n",
       "1    0.0     0.0       0      0    0.0    0.0     0.0    0000  \n",
       "2    0.0     0.0       0      0    0.0    0.0     0.0    0000  \n",
       "3    0.0     0.0       0      0    0.0    0.0     0.0    0000  \n",
       "4    0.0     0.0       0      0    0.0    0.0     0.0    0000  \n",
       "\n",
       "[5 rows x 24 columns]"
      ]
     },
     "execution_count": 74,
     "metadata": {},
     "output_type": "execute_result"
    }
   ],
   "source": [
    "test = pd.read_table(Phys_files_list[13])\n",
    "\n",
    "test.head()"
   ]
  },
  {
   "cell_type": "code",
   "execution_count": 76,
   "metadata": {
    "collapsed": false
   },
   "outputs": [
    {
     "name": "stdout",
     "output_type": "stream",
     "text": [
      "1999\n",
      "(947827, 17)\n",
      "2001\n",
      "(1297290, 17)\n",
      "2002\n",
      "(1365184, 17)\n",
      "2003\n",
      "(1322307, 18)\n",
      "2004\n",
      "(1364285, 18)\n",
      "2005\n",
      "(1398109, 18)\n",
      "2006\n",
      "(1577272, 18)\n",
      "2007\n",
      "(1602596, 18)\n",
      "2008\n",
      "(1821178, 18)\n",
      "2009\n",
      "(1854178, 18)\n",
      "2010\n",
      "(3623040, 18)\n",
      "2011\n",
      "(2743959, 25)\n",
      "2012\n",
      "(2175832, 24)\n",
      "2013\n",
      "(2214023, 24)\n",
      "2014\n",
      "(2233435, 24)\n",
      "2015\n",
      "(2255801, 24)\n",
      "2016\n",
      "(2279222, 24)\n"
     ]
    }
   ],
   "source": [
    "#get list of all columns in the file from each year\n",
    "Phys_col_list = []\n",
    "\n",
    "#read PhysFit files\n",
    "for filepath in Phys_files_list:\n",
    "    \n",
    "    #Files starting in 2012 are tab delimited\n",
    "    if (int(filepath[73:77]) < 2012) | (int(filepath[73:77]) > 2013):\n",
    "        #read the file\n",
    "        temp_df = pd.read_csv(filepath)\n",
    "        #print the shape\n",
    "        print filepath[73:77]\n",
    "        print temp_df.shape\n",
    "        #get the columns\n",
    "        temp_col_list = temp_df.columns\n",
    "        #add columns not already encountered to the column list\n",
    "        for colname in temp_col_list:\n",
    "            if colname not in Phys_col_list:\n",
    "                Phys_col_list.append(colname)\n",
    "    else:\n",
    "        #read the file\n",
    "        temp_df = pd.read_table(filepath)\n",
    "        #print the shape\n",
    "        print filepath[73:77]\n",
    "        print temp_df.shape\n",
    "        #get the columns\n",
    "        temp_col_list = temp_df.columns\n",
    "        #add columns not already encountered to the column list\n",
    "        for colname in temp_col_list:\n",
    "            if colname not in Phys_col_list:\n",
    "                Phys_col_list.append(colname)\n",
    "\n",
    "    \n"
   ]
  },
  {
   "cell_type": "code",
   "execution_count": 79,
   "metadata": {
    "collapsed": false
   },
   "outputs": [
    {
     "name": "stdout",
     "output_type": "stream",
     "text": [
      "/Users/nwchen24/Desktop/UC_Berkeley/w209_Data_Viz/final_project_data/PFT_2011/PhysFit2011.txt\n",
      "/Users/nwchen24/Desktop/UC_Berkeley/w209_Data_Viz/final_project_data/PFT_2011/PhysFit2011.txt\n",
      "/Users/nwchen24/Desktop/UC_Berkeley/w209_Data_Viz/final_project_data/PFT_2012/2011_12_ResearchFile.txt\n",
      "/Users/nwchen24/Desktop/UC_Berkeley/w209_Data_Viz/final_project_data/PFT_2013/2012_13_ResearchFile.txt\n",
      "/Users/nwchen24/Desktop/UC_Berkeley/w209_Data_Viz/final_project_data/PFT_2014/2013_14_ResearchFile.txt\n",
      "/Users/nwchen24/Desktop/UC_Berkeley/w209_Data_Viz/final_project_data/PFT_2015/2014_15_ResearchFile.txt\n",
      "/Users/nwchen24/Desktop/UC_Berkeley/w209_Data_Viz/final_project_data/PFT_2016/2015_16_ResearchFile.txt\n"
     ]
    }
   ],
   "source": [
    "#get list of all columns in the file from each year\n",
    "test_list = []\n",
    "\n",
    "#read PhysFit files\n",
    "for filepath in Phys_files_list:\n",
    "    \n",
    "    #Files starting in 2012 are tab delimited\n",
    "    if (int(filepath[73:77]) < 2012) | (int(filepath[73:77]) > 2013):\n",
    "        #read the file\n",
    "        temp_df = pd.read_csv(filepath)\n",
    "        temp_col_list = temp_df.columns\n",
    "        if 'ID' in temp_col_list:\n",
    "            print filepath\n",
    "        if 'Line_Text' in temp_col_list:\n",
    "            print filepath\n",
    "\n",
    "    else:\n",
    "        #read the file\n",
    "        temp_df = pd.read_table(filepath)\n",
    "        temp_col_list = temp_df.columns\n",
    "        if 'ID' in temp_col_list:\n",
    "            print filepath\n",
    "        if 'Line_Text' in temp_col_list:\n",
    "            print filepath\n",
    "\n",
    "    "
   ]
  },
  {
   "cell_type": "code",
   "execution_count": 85,
   "metadata": {
    "collapsed": false
   },
   "outputs": [],
   "source": [
    "#Create a dict that maps all possible column names to standardized column names\n",
    "#Standardized values come second\n",
    "Physfit_column_mapping = {}\n",
    "Physfit_column_mapping['Level'] = 'Aggregation_Lvl'\n",
    "Physfit_column_mapping['SubGrp'] = 'SubGrp'\n",
    "Physfit_column_mapping['RptType'] = 'RptType'\n",
    "Physfit_column_mapping['Line_num'] = 'Line_num'\n",
    "Physfit_column_mapping['line_num'] = 'Line_num'\n",
    "Physfit_column_mapping['Line_Number'] = 'Line_num'\n",
    "Physfit_column_mapping['Table_Number'] = 'Table_Number'\n",
    "Physfit_column_mapping['Report_Number'] = 'Report_Number'\n",
    "Physfit_column_mapping['Line_Text'] = 'Test_Description'\n",
    "Physfit_column_mapping['ID'] = 'Record_ID_2011_Only'\n",
    "\n",
    "Physfit_column_mapping['Ccode'] = 'CountyCode'\n",
    "Physfit_column_mapping['CO'] = 'CountyCode'\n",
    "Physfit_column_mapping['Dcode'] = 'DistrictCode'\n",
    "Physfit_column_mapping['DIST'] = 'DistrictCode'\n",
    "Physfit_column_mapping['charternum'] = 'CharterNum'\n",
    "Physfit_column_mapping['ChrtNum'] = 'CharterNum'\n",
    "Physfit_column_mapping['Scode'] = 'SchoolCode'\n",
    "Physfit_column_mapping['SCHL'] = 'SchoolCode'\n",
    "Physfit_column_mapping['cds_code'] = 'CountyDistSchCode'\n",
    "\n",
    "Physfit_column_mapping['Gr05_Stu'] = 'Gr5_NumStu'\n",
    "Physfit_column_mapping['Gr5PctIn'] = 'Gr5_PctPass'\n",
    "Physfit_column_mapping['Gr5PctNotIn'] = 'Gr5_PctFail'\n",
    "\n",
    "Physfit_column_mapping['Gr07_Stu'] = 'Gr7_NumStu'\n",
    "Physfit_column_mapping['Gr7PctIn'] = 'Gr7_PctPass'\n",
    "Physfit_column_mapping['Gr7PctNotIn'] = 'Gr7_PctFail'\n",
    "\n",
    "Physfit_column_mapping['Gr09_Stu'] = 'Gr9_NumStu'\n",
    "Physfit_column_mapping['Gr9PctIn'] = 'Gr9_PctPass'\n",
    "Physfit_column_mapping['Gr9PctNotIn'] = 'Gr9_PctFail'\n",
    "\n",
    "Physfit_column_mapping['NoStud5'] = 'Gr5_NumStu'\n",
    "Physfit_column_mapping['NoHFZ5'] = 'Gr5_NumPass'\n",
    "Physfit_column_mapping['Perc5a'] = 'Gr5_PctPass'\n",
    "Physfit_column_mapping['Perc5b'] = 'Gr5_PctFail_Need_Improvement'\n",
    "Physfit_column_mapping['Perc5c'] = 'Gr5_PctFail_High_Risk'\n",
    "\n",
    "Physfit_column_mapping['NoStud7'] = 'Gr7_NumStu'\n",
    "Physfit_column_mapping['NoHFZ7'] = 'Gr7_NumPass'\n",
    "Physfit_column_mapping['Perc7a'] = 'Gr7_PctPass'\n",
    "Physfit_column_mapping['Perc7b'] = 'Gr7_PctFail_Need_Improvement'\n",
    "Physfit_column_mapping['Perc7c'] = 'Gr7_PctFail_High_Risk'\n",
    "\n",
    "Physfit_column_mapping['NoStud9'] = 'Gr9_NumStu'\n",
    "Physfit_column_mapping['NoHFZ9'] = 'Gr9_NumPass'\n",
    "Physfit_column_mapping['Perc9a'] = 'Gr9_PctPass'\n",
    "Physfit_column_mapping['Perc9b'] = 'Gr9_PctFail_Need_Improvement'\n",
    "Physfit_column_mapping['Perc9c'] = 'Gr9_PctFail_High_Risk'\n",
    "\n",
    "#Get list of the unique standardized column names to initialize DF\n",
    "unique_Physfit_standard_cols = list(set( val for val in Physfit_column_mapping.values()))\n",
    "\n",
    "\n"
   ]
  },
  {
   "cell_type": "code",
   "execution_count": 86,
   "metadata": {
    "collapsed": false
   },
   "outputs": [
    {
     "name": "stdout",
     "output_type": "stream",
     "text": [
      "1999Read Successfully\n",
      "2001Read Successfully\n",
      "2002Read Successfully\n",
      "2003Read Successfully\n",
      "2004Read Successfully\n",
      "2005Read Successfully\n",
      "2006Read Successfully\n",
      "2007Read Successfully\n",
      "2008Read Successfully\n",
      "2009Read Successfully\n",
      "2010Read Successfully\n",
      "2011Read Successfully\n",
      "2012Read Successfully\n",
      "2013Read Successfully\n",
      "2014Read Successfully\n",
      "2015Read Successfully\n",
      "2016Read Successfully\n"
     ]
    }
   ],
   "source": [
    "#initialize dataframe to hold the physical fitness files\n",
    "Physfit_df = pd.DataFrame(columns = unique_Physfit_standard_cols)\n",
    "\n",
    "#read PhysFit files\n",
    "for filepath in Phys_files_list:\n",
    "    temp_df = pd.read_csv(filepath)\n",
    "    temp_df = temp_df.rename(columns = Physfit_column_mapping)\n",
    "    temp_df['Year'] = filepath[73:77]\n",
    "    Physfit_df = Physfit_df.append(temp_df)\n",
    "    print filepath[73:77] + \" Read Successfully\"\n",
    "    "
   ]
  },
  {
   "cell_type": "code",
   "execution_count": 87,
   "metadata": {
    "collapsed": false
   },
   "outputs": [],
   "source": [
    "#Save serialized version to file\n",
    "Physfit_df.to_pickle('/Users/nwchen24/Desktop/UC_Berkeley/w209_Data_Viz/final_project_data/Combined_Data/Combined_Physical_Fitness_Data.pkl')"
   ]
  },
  {
   "cell_type": "markdown",
   "metadata": {},
   "source": [
    "## Physical Fitness Data Description"
   ]
  },
  {
   "cell_type": "markdown",
   "metadata": {},
   "source": [
    "There appears to have been a change in reporting procedure in 2012. Starting in 2012, for each of the grades 5, 7, and 9, the percentage of students not in the healthy fitness zone is split between 'Needs Improvement' and 'High Risk'. We will want to determine whether the cutoff to determine whether students not in the healthy fitness zone remained the same after this reporting change was implemented.\n",
    "\n",
    "Report_Number (and possibly report type) reports the group being reported on in that observation (e.g. all students, male students, female students, black students, white students, etc).\n",
    "\n",
    "Line_Number and Line_Text identify the data being reported (I think this means the particular fitness measuer)"
   ]
  },
  {
   "cell_type": "code",
   "execution_count": 27,
   "metadata": {
    "collapsed": false
   },
   "outputs": [],
   "source": []
  },
  {
   "cell_type": "code",
   "execution_count": null,
   "metadata": {
    "collapsed": true
   },
   "outputs": [],
   "source": []
  }
 ],
 "metadata": {
  "kernelspec": {
   "display_name": "Python 2",
   "language": "python",
   "name": "python2"
  },
  "language_info": {
   "codemirror_mode": {
    "name": "ipython",
    "version": 2
   },
   "file_extension": ".py",
   "mimetype": "text/x-python",
   "name": "python",
   "nbconvert_exporter": "python",
   "pygments_lexer": "ipython2",
   "version": "2.7.13"
  }
 },
 "nbformat": 4,
 "nbformat_minor": 2
}
